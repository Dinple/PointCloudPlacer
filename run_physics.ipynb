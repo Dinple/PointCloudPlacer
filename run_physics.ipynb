{
 "cells": [
  {
   "cell_type": "code",
   "execution_count": null,
   "metadata": {},
   "outputs": [],
   "source": [
    "import torch\n",
    "import torch.nn as nn\n",
    "import torch.nn.functional as F\n",
    "import torch.optim as optim\n",
    "# jax\n",
    "from jax import numpy as jnp\n",
    "# numpy\n",
    "import numpy as np\n",
    "import random\n",
    "import matplotlib.pyplot as plt\n",
    "# utils\n",
    "from tqdm import tqdm_notebook as tqdm\n",
    "import pickle\n",
    "# custom modules\n",
    "from canvas import *\n",
    "from placer import *\n",
    "from box import *\n",
    "from net import *\n",
    "from neuroPlacer import *\n",
    "from VAEPlacer import *"
   ]
  },
  {
   "cell_type": "markdown",
   "metadata": {},
   "source": [
    "## Pseudo Testcase Generation"
   ]
  },
  {
   "cell_type": "code",
   "execution_count": null,
   "metadata": {},
   "outputs": [],
   "source": [
    "# make some boxes and nets\n",
    "box_collection = {}\n",
    "net_collection = {}\n",
    "\n",
    "num_boxes = 10\n",
    "num_nets = 2\n",
    "\n",
    "# generate 10 boxes and 3 nets\n",
    "for i in range(0, num_boxes):\n",
    "    net_idx = int(i % num_nets)\n",
    "    box_collection[f\"box_{i}\"] = Box(\n",
    "        box_name=f\"box_{i}\",\n",
    "        llx=random.randint(25, 55),\n",
    "        lly=random.randint(25, 55),\n",
    "        width=random.randint(1, 10),\n",
    "        height=random.randint(1, 10),\n",
    "        net_name=f\"net_{net_idx}\",\n",
    "    )\n",
    "\n",
    "    if f\"net_{net_idx}\" not in net_collection:\n",
    "        net_collection[f\"net_{net_idx}\"] = Net(\n",
    "            net_name=f\"net_{net_idx}\", source_box_name=f\"box_{i}\", sink_box_names=[]\n",
    "        )\n",
    "    else:\n",
    "        net_collection[f\"net_{net_idx}\"].add_sink_box_name(f\"box_{i}\")\n",
    "\n",
    "# make a canvas\n",
    "pcb_canvas = PCBCanvas(width=100, height=100, boxes=box_collection, nets=net_collection)\n",
    "print(\"number of boxes:\", len(pcb_canvas.boxes), len(box_collection))\n",
    "for box in pcb_canvas.boxes.values():\n",
    "    print(box)\n",
    "print(\"number of nets:\", len(pcb_canvas.nets), len(net_collection))\n",
    "for net in pcb_canvas.nets.values():\n",
    "    print(net.net_name, net.source_box_name, net.box_names)\n",
    "\n",
    "pcb_canvas.plot()\n",
    "\n",
    "print(pcb_canvas.get_incidence_matrix())"
   ]
  },
  {
   "cell_type": "code",
   "execution_count": null,
   "metadata": {},
   "outputs": [],
   "source": [
    "# pickle the canvas\n",
    "pickle_id = '09'\n",
    "# with open(f\"./testcase/pcb_canvas_{pickle_id}.pkl\", \"wb\") as f:\n",
    "#     pickle.dump(pcb_canvas, f)\n",
    "# load the canvas\n",
    "with open(f\"./testcase/pcb_canvas_{pickle_id}.pkl\", \"rb\") as f:\n",
    "    pcb_canvas = pickle.load(f)\n",
    "\n",
    "pcb_canvas.plot()\n",
    "print(\"wirelength:\\t\", pcb_canvas.get_total_wirelength_from_cxy())"
   ]
  },
  {
   "cell_type": "markdown",
   "metadata": {},
   "source": [
    "# Placement Stage"
   ]
  },
  {
   "cell_type": "code",
   "execution_count": 8,
   "metadata": {},
   "outputs": [],
   "source": [
    "# make a placer\n",
    "pcbplacer = PCBPlacer(pcb_canvas)"
   ]
  },
  {
   "cell_type": "code",
   "execution_count": null,
   "metadata": {},
   "outputs": [],
   "source": [
    "# everything 0\n",
    "dx_list = [0.0] * len(pcb_canvas.boxes)\n",
    "dy_list = [0.0] * len(pcb_canvas.boxes)\n",
    "# dx_list = [-0.232823, 0.491275, 0.356292, 0.847550, -0.924190, 0.989562, 0.161006, 0.864985, 0.862639, 0.860507]\n",
    "# dy_list = [0.317008, 0.374289, 0.440887, -0.104168, -0.934618, 0.223912, 0.223558, 0.476076, -0.014023, 0.021435]\n",
    "pcb_canvas.set_all_boxes_motion(dx_list, dy_list)\n",
    "print(\"are all boxes in canvas?\", pcb_canvas.if_all_boxes_within_boundary())\n",
    "plot_id = 'plot04'\n",
    "# check if directory exists\n",
    "if not os.path.exists(f\"./plot/{plot_id}\"):\n",
    "    os.makedirs(f\"./plot/{plot_id}\")\n",
    "for i in tqdm(range(500)):\n",
    "    # print(\"iteration:\", i)\n",
    "    pcb_canvas.move_all_boxes()\n",
    "    pcb_canvas.plot(savefig=True, filename=f\"./plot/{plot_id}/placement_%d.png\" % i)\n",
    "    # print(\"\\twirelength:\\t\", pcb_canvas.get_total_wirelength_from_cxy())\n",
    "\n",
    "pcb_canvas.generate_gif_from_plots(plot_id, \"./placement.gif\")\n"
   ]
  },
  {
   "cell_type": "code",
   "execution_count": null,
   "metadata": {},
   "outputs": [],
   "source": [
    "pcb_canvas.get_total_wirelength_from_cxy()"
   ]
  }
 ],
 "metadata": {
  "kernelspec": {
   "display_name": "Python 3",
   "language": "python",
   "name": "python3"
  },
  "language_info": {
   "codemirror_mode": {
    "name": "ipython",
    "version": 3
   },
   "file_extension": ".py",
   "mimetype": "text/x-python",
   "name": "python",
   "nbconvert_exporter": "python",
   "pygments_lexer": "ipython3",
   "version": "3.10.13"
  }
 },
 "nbformat": 4,
 "nbformat_minor": 2
}
