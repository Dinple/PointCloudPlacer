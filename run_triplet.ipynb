{
 "cells": [
  {
   "cell_type": "code",
   "execution_count": null,
   "metadata": {},
   "outputs": [],
   "source": [
    "import torch\n",
    "import torch.nn as nn\n",
    "import torch.nn.functional as F\n",
    "import torch.optim as optim\n",
    "# jax\n",
    "from jax import numpy as jnp\n",
    "# numpy\n",
    "import numpy as np\n",
    "import random\n",
    "import matplotlib.pyplot as plt\n",
    "# utils\n",
    "from tqdm import tqdm_notebook as tqdm\n",
    "import pickle\n",
    "# custom modules\n",
    "from canvas import *\n",
    "from placer import *\n",
    "from box import *\n",
    "from net import *\n",
    "from neuroPlacer import *\n",
    "from VAEPlacer import *"
   ]
  },
  {
   "cell_type": "markdown",
   "metadata": {},
   "source": [
    "## Pseudo Testcase Generation"
   ]
  },
  {
   "cell_type": "code",
   "execution_count": null,
   "metadata": {},
   "outputs": [],
   "source": [
    "# make some boxes and nets\n",
    "box_collection = {}\n",
    "net_collection = {}\n",
    "\n",
    "num_boxes = 10\n",
    "num_nets = 2\n",
    "\n",
    "# generate 10 boxes and 3 nets\n",
    "for i in range(0, num_boxes):\n",
    "    net_idx = int(i % num_nets)\n",
    "    box_collection[f\"box_{i}\"] = Box(\n",
    "        box_name=f\"box_{i}\",\n",
    "        llx=random.randint(25, 55),\n",
    "        lly=random.randint(25, 55),\n",
    "        width=random.randint(1, 10),\n",
    "        height=random.randint(1, 10),\n",
    "        net_name=f\"net_{net_idx}\",\n",
    "    )\n",
    "\n",
    "    if f\"net_{net_idx}\" not in net_collection:\n",
    "        net_collection[f\"net_{net_idx}\"] = Net(\n",
    "            net_name=f\"net_{net_idx}\", source_box_name=f\"box_{i}\", sink_box_names=[]\n",
    "        )\n",
    "    else:\n",
    "        net_collection[f\"net_{net_idx}\"].add_sink_box_name(f\"box_{i}\")\n",
    "\n",
    "# make a canvas\n",
    "pcb_canvas = PCBCanvas(width=100, height=100, boxes=box_collection, nets=net_collection)\n",
    "print(\"number of boxes:\", len(pcb_canvas.boxes), len(box_collection))\n",
    "for box in pcb_canvas.boxes.values():\n",
    "    print(box)\n",
    "print(\"number of nets:\", len(pcb_canvas.nets), len(net_collection))\n",
    "for net in pcb_canvas.nets.values():\n",
    "    print(net.net_name, net.source_box_name, net.box_names)\n",
    "\n",
    "pcb_canvas.plot()\n",
    "\n",
    "print(pcb_canvas.get_incidence_matrix())"
   ]
  },
  {
   "cell_type": "code",
   "execution_count": null,
   "metadata": {},
   "outputs": [],
   "source": [
    "# pickle the canvas\n",
    "pickle_id = '09'\n",
    "# with open(f\"./testcase/pcb_canvas_{pickle_id}.pkl\", \"wb\") as f:\n",
    "#     pickle.dump(pcb_canvas, f)\n",
    "# load the canvas\n",
    "with open(f\"./testcase/pcb_canvas_{pickle_id}.pkl\", \"rb\") as f:\n",
    "    pcb_canvas = pickle.load(f)\n",
    "\n",
    "pcb_canvas.plot()\n",
    "print(\"wirelength:\\t\", pcb_canvas.get_total_wirelength_from_cxy())"
   ]
  },
  {
   "cell_type": "markdown",
   "metadata": {},
   "source": [
    "# Placement Stage"
   ]
  },
  {
   "cell_type": "code",
   "execution_count": null,
   "metadata": {},
   "outputs": [],
   "source": [
    "# make a placer\n",
    "pcbplacer = PCBPlacer(pcb_canvas)\n",
    "\n",
    "# init placement\n",
    "pcbplacer.init_plc_spectral()\n",
    "print(\"wirelength:\\t\", pcb_canvas.get_total_wirelength_from_cxy())\n",
    "pcb_canvas.plot()\n",
    "\n",
    "pcbplacer.triplet_loss_placement(\n",
    "    margin=1.0, iteration=100\n",
    ")\n",
    "\n",
    "pcb_canvas.plot()"
   ]
  },
  {
   "cell_type": "code",
   "execution_count": null,
   "metadata": {},
   "outputs": [],
   "source": [
    "pcb_canvas.get_total_wirelength_from_cxy()"
   ]
  }
 ],
 "metadata": {
  "kernelspec": {
   "display_name": "Python 3",
   "language": "python",
   "name": "python3"
  },
  "language_info": {
   "codemirror_mode": {
    "name": "ipython",
    "version": 3
   },
   "file_extension": ".py",
   "mimetype": "text/x-python",
   "name": "python",
   "nbconvert_exporter": "python",
   "pygments_lexer": "ipython3",
   "version": "3.10.13"
  }
 },
 "nbformat": 4,
 "nbformat_minor": 2
}
